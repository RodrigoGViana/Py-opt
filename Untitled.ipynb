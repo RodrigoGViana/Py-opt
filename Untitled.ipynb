{
 "cells": [
  {
   "cell_type": "markdown",
   "metadata": {},
   "source": [
    "Una empresa, especializada en la fabricación de mobiliario para casas de muñecas, produce\n",
    "cierto tipo de minimesas y minisillas que vende a 2000 unidades monetarias (u. m.) y 3000 u. m. por\n",
    "cada artículo, respectivamente. Desea saber cuántas unidades de cada artículo debe fabricar diariamente\n",
    "un operario para maximizar los ingresos, teniendo las siguientes restricciones:\n",
    "\n",
    "1. El número total de unidades de los dos tipos no podrá exceder de cuatro por día y operario.\n",
    "2. Cada minimesa requiere dos horas para su fabricación; cada minisilla, tres horas. La jornada laboral máxima es de diez horas.\n",
    "3. El material utilizado en cada minimesa cuesta 400 u.m. El utilizado en cada minisilla cuesta 200 u.m. Cada operario dispone de 1200 u.m. diarias para material.\n",
    "\n",
    "Plantear y resolver el anterior problema como un modelo de programación lineal."
   ]
  },
  {
   "cell_type": "markdown",
   "metadata": {},
   "source": [
    "Con **x** designaremos a las minimesas y con **y** a las minisillas.\n",
    "\n",
    "Función a optimizar:\n",
    "\n",
    "\\begin{equation}\n",
    "    z = 2000x + 3000y\n",
    "\\end{equation}\n",
    "\n",
    "Restricciones:\n",
    "\n",
    "\\begin{aligned}\n",
    " x + y &\\leq 4\\\\\n",
    " 2x + 3y &\\leq 10\\\\\n",
    " 400x + 200y &\\leq 1200\n",
    "\\end{aligned}"
   ]
  },
  {
   "cell_type": "code",
   "execution_count": 1,
   "metadata": {
    "collapsed": true
   },
   "outputs": [],
   "source": [
    "import numpy as np\n",
    "from scipy.optimize import minimize"
   ]
  },
  {
   "cell_type": "code",
   "execution_count": 15,
   "metadata": {
    "collapsed": true
   },
   "outputs": [],
   "source": [
    "def objetivo(x, sign=1.0):\n",
    "    return sign*(2000*x[0] + 3000*x[1])"
   ]
  },
  {
   "cell_type": "code",
   "execution_count": 3,
   "metadata": {
    "collapsed": true
   },
   "outputs": [],
   "source": [
    "cons1 = {'type': 'ineq', 'fun': lambda x: 4 - x[0] + x[1]}\n",
    "cons2 = {'type': 'ineq', 'fun': lambda x: 10 - 2*x[0] - 3*x[1]}\n",
    "cons3 = {'type': 'ineq', 'fun': lambda x: 1200 - 400*x[0] - 200*x[1]}\n",
    "\n",
    "cons = [cons1, cons2, cons3]"
   ]
  },
  {
   "cell_type": "code",
   "execution_count": 4,
   "metadata": {
    "collapsed": true
   },
   "outputs": [],
   "source": [
    "b = (0, None)\n",
    "bnds = (b,b)"
   ]
  },
  {
   "cell_type": "code",
   "execution_count": 16,
   "metadata": {
    "collapsed": false
   },
   "outputs": [],
   "source": [
    "sol = minimize(objetivo, [0.0, 0.0], args=(-1.0,), method='SLSQP', \\\n",
    "              bounds=bnds, constraints=cons)"
   ]
  },
  {
   "cell_type": "code",
   "execution_count": 17,
   "metadata": {
    "collapsed": false
   },
   "outputs": [
    {
     "data": {
      "text/plain": [
       "     fun: -10000.219543002779\n",
       "     jac: array([-2000., -3000.])\n",
       " message: 'Positive directional derivative for linesearch'\n",
       "    nfev: 28\n",
       "     nit: 8\n",
       "    njev: 4\n",
       "  status: 8\n",
       " success: False\n",
       "       x: array([ 1.53849531,  2.30774297])"
      ]
     },
     "execution_count": 17,
     "metadata": {},
     "output_type": "execute_result"
    }
   ],
   "source": [
    "sol"
   ]
  },
  {
   "cell_type": "code",
   "execution_count": 1,
   "metadata": {
    "collapsed": true
   },
   "outputs": [],
   "source": [
    "from sympy import init_session"
   ]
  },
  {
   "cell_type": "code",
   "execution_count": 2,
   "metadata": {
    "collapsed": true
   },
   "outputs": [],
   "source": [
    "from sympy.plotting import plot3d"
   ]
  },
  {
   "cell_type": "code",
   "execution_count": 4,
   "metadata": {
    "collapsed": false
   },
   "outputs": [
    {
     "name": "stdout",
     "output_type": "stream",
     "text": [
      "IPython console for SymPy 1.0 (Python 3.6.0-64-bit) (ground types: python)\n",
      "\n",
      "These commands were executed:\n",
      ">>> from __future__ import division\n",
      ">>> from sympy import *\n",
      ">>> x, y, z, t = symbols('x y z t')\n",
      ">>> k, m, n = symbols('k m n', integer=True)\n",
      ">>> f, g, h = symbols('f g h', cls=Function)\n",
      ">>> init_printing()\n",
      "\n",
      "Documentation can be found at http://docs.sympy.org/1.0/\n"
     ]
    }
   ],
   "source": [
    "init_session()"
   ]
  },
  {
   "cell_type": "code",
   "execution_count": 5,
   "metadata": {
    "collapsed": true
   },
   "outputs": [],
   "source": [
    "z = 2000*x + 3000*y"
   ]
  },
  {
   "cell_type": "code",
   "execution_count": 7,
   "metadata": {
    "collapsed": false
   },
   "outputs": [
    {
     "data": {
      "text/plain": [
       "<sympy.plotting.plot.Plot at 0x7f39a0daf2b0>"
      ]
     },
     "execution_count": 7,
     "metadata": {},
     "output_type": "execute_result"
    }
   ],
   "source": [
    "plot3d(z, (x, 0, 50), (y,0,50))"
   ]
  },
  {
   "cell_type": "code",
   "execution_count": null,
   "metadata": {
    "collapsed": true
   },
   "outputs": [],
   "source": []
  }
 ],
 "metadata": {
  "kernelspec": {
   "display_name": "Python 3",
   "language": "python",
   "name": "python3"
  },
  "language_info": {
   "codemirror_mode": {
    "name": "ipython",
    "version": 3
   },
   "file_extension": ".py",
   "mimetype": "text/x-python",
   "name": "python",
   "nbconvert_exporter": "python",
   "pygments_lexer": "ipython3",
   "version": "3.6.0"
  }
 },
 "nbformat": 4,
 "nbformat_minor": 2
}
